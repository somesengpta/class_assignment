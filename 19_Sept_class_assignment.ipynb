{
 "cells": [
  {
   "cell_type": "code",
   "execution_count": 30,
   "metadata": {},
   "outputs": [
    {
     "data": {
      "text/plain": [
       "115"
      ]
     },
     "execution_count": 30,
     "metadata": {},
     "output_type": "execute_result"
    }
   ],
   "source": [
    "d={\"ineuron\":{\"a\" :23,\"b\" :34,\"c\":56},\"course\" : {'d':45,'e':12},\"c\":99,\"e\":10.1,\"f\": 2 +1j,\"g\":\"12\",\"h\":\"abc\",\"k\":[1,2,'115',4,'sam'],\"l\":True,\"m\":(6,7,8),\"n\":{1,2,105},\"o\":{'f':110}}\n",
    "\n",
    "\n",
    "a=[]\n",
    "\n",
    "for i in d.values():\n",
    "    if type(i)==int:\n",
    "        a.append(i)\n",
    "    elif type(i)==dict:\n",
    "        for j in i.values():\n",
    "            a.append(j)\n",
    "    elif type(i)==float:\n",
    "        a.append(i)\n",
    "    elif  type(i)==complex:\n",
    "        a.append(abs(i))\n",
    "    elif type(i)==str:\n",
    "        if (i.isnumeric()):\n",
    "            a.append(int(i))\n",
    "    elif type(i)==list:\n",
    "        for k in i:\n",
    "            if (type(k)== int):\n",
    "                a.append(k)\n",
    "            elif type(k)==str:\n",
    "                if (k.isnumeric()):\n",
    "                    a.append(int(k))\n",
    "                       \n",
    "    elif type(i)==bool:\n",
    "        a.append(i)\n",
    "    elif type(i)==tuple:\n",
    "        for x in i:\n",
    "            if (type(x)==int):\n",
    "                a.append(x)\n",
    "            elif type(x)==str:\n",
    "                if (x.isnumeric()):\n",
    "                    a.append(int(x))\n",
    "                    \n",
    "    elif type(i)==set:\n",
    "        for z in i:\n",
    "            if (type(z)==int):\n",
    "                a.append(z)\n",
    "            elif type(z)==str:\n",
    "                if (z.isnumeric()):\n",
    "                    a.append(int(z))\n",
    "max(a)\n",
    "\n",
    "\n",
    "            \n",
    "                         \n",
    "            \n",
    "                   \n",
    "                        \n",
    "                    \n",
    "    \n"
   ]
  },
  {
   "cell_type": "code",
   "execution_count": null,
   "metadata": {},
   "outputs": [],
   "source": []
  }
 ],
 "metadata": {
  "kernelspec": {
   "display_name": "Python 3",
   "language": "python",
   "name": "python3"
  },
  "language_info": {
   "codemirror_mode": {
    "name": "ipython",
    "version": 3
   },
   "file_extension": ".py",
   "mimetype": "text/x-python",
   "name": "python",
   "nbconvert_exporter": "python",
   "pygments_lexer": "ipython3",
   "version": "3.7.6"
  }
 },
 "nbformat": 4,
 "nbformat_minor": 4
}
